{
  "nbformat": 4,
  "nbformat_minor": 0,
  "metadata": {
    "colab": {
      "provenance": [],
      "authorship_tag": "ABX9TyONr+WyyHqZteg5kRKMYfhJ",
      "include_colab_link": true
    },
    "kernelspec": {
      "name": "python3",
      "display_name": "Python 3"
    },
    "language_info": {
      "name": "python"
    }
  },
  "cells": [
    {
      "cell_type": "markdown",
      "metadata": {
        "id": "view-in-github",
        "colab_type": "text"
      },
      "source": [
        "<a href=\"https://colab.research.google.com/github/JonScottE/RobinHood_Bot/blob/main/RobinhoodBot.ipynb\" target=\"_parent\"><img src=\"https://colab.research.google.com/assets/colab-badge.svg\" alt=\"Open In Colab\"/></a>"
      ]
    },
    {
      "cell_type": "code",
      "execution_count": null,
      "metadata": {
        "id": "rZxKwXKo6C96"
      },
      "outputs": [],
      "source": [
        "pip install robin_stocks\n",
        "\n",
        "import requests\n",
        "import pandas as pd\n",
        "import numpy as np\n",
        "import talib\n",
        "import robin_stocks as rs\n",
        "\n",
        "rs.login(username='username_here',\n",
        "         password='Password_here',\n",
        "         expiresIn=86400,\n",
        "         by_sms=True)\n",
        "\n",
        "def get_data(symbol, interval='5minute'):\n",
        "    data = rs.stocks.get_crypto(symbol, interval=interval)\n",
        "    return data\n",
        "\n",
        "def buy_sell_signal(df):\n",
        "    close = df['Close']\n",
        "    rsi = talib.RSI(close, timeperiod=14)\n",
        "    signals = []\n",
        "    for i in range(1, len(df)):\n",
        "        if rsi[i-1] < 80 and rsi[i] >= 80:\n",
        "            signals.append(1) # Buy signal\n",
        "        elif rsi[i-1] > 80 and rsi[i] <= 80:\n",
        "            signals.append(-1) # Sell signal\n",
        "        else:\n",
        "            signals.append(0)\n",
        "    df['Signal'] = signals\n",
        "    return df\n",
        "\n",
        "def backtesting(df):\n",
        "    signals = df['Signal']\n",
        "    close = df['Close']\n",
        "    position = 0\n",
        "    PnL = [0]\n",
        "    for i in range(1, len(df)):\n",
        "        if signals[i] == 1:\n",
        "            position = 100/close[i]\n",
        "        elif signals[i] == -1:\n",
        "            PnL.append(position*close[i]-100)\n",
        "            position = 0\n",
        "        else:\n",
        "            PnL.append(position*close[i]-100)\n",
        "    df['PnL'] = PnL\n",
        "    return df\n",
        "\n",
        "if __name__ == '__main__':\n",
        "    symbol = 'AAPL'\n",
        "    data = get_data(symbol)\n",
        "    df = pd.DataFrame(data)\n",
        "    df = df[['close_price', 'begins_at']]\n",
        "    df = df.rename(columns={'close_price': 'Close', 'begins_at': 'Date'})\n",
        "    df['Date'] = pd.to_datetime(df['Date'])\n",
        "    df = df.set_index('Date')\n",
        "    df = df.dropna()\n",
        "    df = buy_sell_signal(df)\n",
        "    df = backtesting(df)\n",
        "    print(df)\n"
      ]
    }
  ]
}